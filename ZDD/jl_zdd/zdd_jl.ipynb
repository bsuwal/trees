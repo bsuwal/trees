{
 "cells": [
  {
   "cell_type": "code",
   "execution_count": 1,
   "metadata": {},
   "outputs": [
    {
     "name": "stderr",
     "output_type": "stream",
     "text": [
      "\u001b[32m\u001b[1m  Activating\u001b[22m\u001b[39m environment at `~/.julia/environments/zdd/Project.toml`\n"
     ]
    }
   ],
   "source": [
    "using Pkg; Pkg.activate(\"zdd\", shared=true)\n",
    "using LightGraphs\n",
    "using GraphPlot\n",
    "using Compose\n",
    "using Random\n",
    "using Traceur\n",
    "using BenchmarkTools"
   ]
  },
  {
   "cell_type": "code",
<<<<<<< HEAD
   "execution_count": 3,
=======
   "execution_count": 29,
>>>>>>> 7d61b51b21c115080d21070d4878a2f6e54dc032
   "metadata": {},
   "outputs": [
    {
     "data": {
      "text/plain": [
       "adjust_node! (generic function with 1 method)"
      ]
     },
<<<<<<< HEAD
     "execution_count": 3,
=======
     "execution_count": 29,
>>>>>>> 7d61b51b21c115080d21070d4878a2f6e54dc032
     "metadata": {},
     "output_type": "execute_result"
    }
   ],
   "source": [
    "# include(\"weightless.jl\")\n",
    "include(\"weighted.jl\")"
   ]
  },
  {
   "cell_type": "code",
<<<<<<< HEAD
   "execution_count": 5,
=======
   "execution_count": 31,
>>>>>>> 7d61b51b21c115080d21070d4878a2f6e54dc032
   "metadata": {},
   "outputs": [
    {
     "name": "stdout",
     "output_type": "stream",
     "text": [
<<<<<<< HEAD
      "Accepting districts with population in [3, 3]\n",
      "  0.000562 seconds (854 allocations: 83.844 KiB)\n"
=======
      "Accepting districts with population in [2, 2]\n",
      "  0.000340 seconds (301 allocations: 33.164 KiB)\n"
>>>>>>> 7d61b51b21c115080d21070d4878a2f6e54dc032
     ]
    }
   ],
   "source": [
    "# grid graph\n",
    "m = 2\n",
    "dims = [m, m]\n",
    "k = m\n",
    "d = 0\n",
    "contiguity = \"rook\"\n",
    "\n",
    "if contiguity == \"queen\"\n",
    "    g = queen_grid(dims)\n",
    "    edge_ordering = optimal_queen_grid_edge_order(g, dims[1], dims[2])\n",
    "else\n",
    "    g = grid(dims)\n",
    "    edge_ordering = optimal_grid_edge_order_diags(g, dims[1], dims[2])\n",
    "end\n",
    "\n",
    "@time zdd = construct_zdd(g, k, d, edge_ordering)\n",
    "nothing"
   ]
  },
  {
   "cell_type": "code",
<<<<<<< HEAD
   "execution_count": 6,
=======
   "execution_count": 32,
>>>>>>> 7d61b51b21c115080d21070d4878a2f6e54dc032
   "metadata": {},
   "outputs": [
    {
     "data": {
      "text/plain": [
       "2"
      ]
     },
<<<<<<< HEAD
     "execution_count": 6,
=======
     "execution_count": 32,
>>>>>>> 7d61b51b21c115080d21070d4878a2f6e54dc032
     "metadata": {},
     "output_type": "execute_result"
    }
   ],
   "source": [
    "count_paths(zdd)"
   ]
  },
  {
   "cell_type": "code",
<<<<<<< HEAD
   "execution_count": 7,
=======
   "execution_count": 33,
>>>>>>> 7d61b51b21c115080d21070d4878a2f6e54dc032
   "metadata": {},
   "outputs": [
    {
     "data": {
      "text/plain": [
       "9"
      ]
     },
<<<<<<< HEAD
     "execution_count": 7,
=======
     "execution_count": 33,
>>>>>>> 7d61b51b21c115080d21070d4878a2f6e54dc032
     "metadata": {},
     "output_type": "execute_result"
    }
   ],
   "source": [
    "num_nodes(zdd)"
   ]
  },
  {
   "cell_type": "code",
   "execution_count": 8,
   "metadata": {},
   "outputs": [
    {
     "data": {
      "text/plain": [
       "10-element Vector{Vector{NodeEdge}}:\n",
       " [NodeEdge(0x01, 0x04), NodeEdge(0x02, 0x05), NodeEdge(0x04, 0x07), NodeEdge(0x03, 0x06), NodeEdge(0x05, 0x08), NodeEdge(0x06, 0x09)]\n",
       " [NodeEdge(0x01, 0x04), NodeEdge(0x02, 0x03), NodeEdge(0x04, 0x07), NodeEdge(0x03, 0x06), NodeEdge(0x05, 0x08), NodeEdge(0x08, 0x09)]\n",
       " [NodeEdge(0x01, 0x04), NodeEdge(0x02, 0x03), NodeEdge(0x04, 0x05), NodeEdge(0x03, 0x06), NodeEdge(0x07, 0x08), NodeEdge(0x08, 0x09)]\n",
       " [NodeEdge(0x01, 0x04), NodeEdge(0x02, 0x03), NodeEdge(0x02, 0x05), NodeEdge(0x04, 0x07), NodeEdge(0x06, 0x09), NodeEdge(0x08, 0x09)]\n",
       " [NodeEdge(0x01, 0x02), NodeEdge(0x02, 0x05), NodeEdge(0x04, 0x07), NodeEdge(0x03, 0x06), NodeEdge(0x07, 0x08), NodeEdge(0x06, 0x09)]\n",
       " [NodeEdge(0x01, 0x02), NodeEdge(0x02, 0x03), NodeEdge(0x04, 0x07), NodeEdge(0x05, 0x06), NodeEdge(0x07, 0x08), NodeEdge(0x06, 0x09)]\n",
       " [NodeEdge(0x01, 0x02), NodeEdge(0x02, 0x03), NodeEdge(0x04, 0x05), NodeEdge(0x05, 0x06), NodeEdge(0x07, 0x08), NodeEdge(0x08, 0x09)]\n",
       " [NodeEdge(0x01, 0x02), NodeEdge(0x02, 0x03), NodeEdge(0x04, 0x05), NodeEdge(0x04, 0x07), NodeEdge(0x06, 0x09), NodeEdge(0x08, 0x09)]\n",
       " [NodeEdge(0x01, 0x02), NodeEdge(0x01, 0x04), NodeEdge(0x03, 0x06), NodeEdge(0x05, 0x08), NodeEdge(0x07, 0x08), NodeEdge(0x06, 0x09)]\n",
       " [NodeEdge(0x01, 0x02), NodeEdge(0x01, 0x04), NodeEdge(0x03, 0x06), NodeEdge(0x05, 0x06), NodeEdge(0x07, 0x08), NodeEdge(0x08, 0x09)]"
      ]
     },
     "execution_count": 8,
     "metadata": {},
     "output_type": "execute_result"
    }
   ],
   "source": [
    "enumerate_plans(zdd)"
   ]
  },
  {
   "cell_type": "code",
   "execution_count": null,
   "metadata": {},
   "outputs": [],
   "source": [
    "num_paths = 0\n",
    "for node in zdd.graph\n",
    "    if node.one == 2\n",
    "        num_paths += 1 \n",
    "    end\n",
    "end\n",
    "num_paths"
   ]
  },
  {
   "cell_type": "code",
   "execution_count": null,
   "metadata": {},
   "outputs": [],
   "source": [
    "zdd.graph"
   ]
  },
  {
   "cell_type": "code",
   "execution_count": null,
   "metadata": {},
   "outputs": [],
   "source": [
    "g_edges"
   ]
  },
  {
   "cell_type": "code",
   "execution_count": null,
   "metadata": {},
   "outputs": [],
   "source": [
    "zdd.paths"
   ]
  },
  {
   "cell_type": "code",
   "execution_count": null,
   "metadata": {},
   "outputs": [],
   "source": []
  }
 ],
 "metadata": {
  "@webio": {
   "lastCommId": null,
   "lastKernelId": null
  },
  "kernelspec": {
   "display_name": "Julia 1.6.3",
   "language": "julia",
   "name": "julia-1.6"
  },
  "language_info": {
   "file_extension": ".jl",
   "mimetype": "application/julia",
   "name": "julia",
   "version": "1.6.3"
  }
 },
 "nbformat": 4,
 "nbformat_minor": 4
}
