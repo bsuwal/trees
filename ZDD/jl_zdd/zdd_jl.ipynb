{
 "cells": [
  {
   "cell_type": "code",
   "execution_count": 1,
   "metadata": {},
   "outputs": [
    {
     "name": "stderr",
     "output_type": "stream",
     "text": [
      "\u001b[32m\u001b[1m Activating\u001b[22m\u001b[39m environment at `~/.julia/environments/zdd/Project.toml`\n"
     ]
    }
   ],
   "source": [
    "using Pkg; Pkg.activate(\"zdd\", shared=true)\n",
    "using LightGraphs\n",
    "using GraphPlot\n",
    "using Compose\n",
    "using Random\n",
    "using Traceur\n",
    "using BenchmarkTools"
   ]
  },
  {
   "cell_type": "code",
   "execution_count": 14,
   "metadata": {},
   "outputs": [
    {
     "data": {
      "text/plain": [
       "adjust_node! (generic function with 1 method)"
      ]
     },
     "execution_count": 14,
     "metadata": {},
     "output_type": "execute_result"
    }
   ],
   "source": [
    "include(\"weightless.jl\")\n",
    "# include(\"weighted.jl\")"
   ]
  },
  {
   "cell_type": "code",
   "execution_count": 22,
   "metadata": {},
   "outputs": [
    {
     "name": "stdout",
     "output_type": "stream",
     "text": [
      "Accepting districts with population in [9, 9]\n",
      "1: 7065\n",
      "2: 7081\n",
      "3: 7945\n",
      "4: 8025\n",
      "5: 8089\n",
      "6: 8217\n",
      "7: 11849\n",
      "8: 12377\n",
      "9: 12537\n",
      "10: 26505\n",
      "11: 26425\n",
      "12: 27513\n",
      "13: 30857\n",
      "14: 87625\n",
      "15: 88297\n",
      "16: 95401\n",
      "17: 93593\n",
      "18: 312793\n",
      "19: 308489\n",
      "20: 318681\n",
      "21: 352073\n",
      "22: 1232201\n",
      "23: 1238553\n",
      "24: 1305801\n",
      "25: 1279289\n",
      "26: 1359625\n",
      "27: 1315641\n",
      "28: 1429737\n",
      "29: 1370425\n",
      "30: 1469465\n",
      "31: 5160393\n",
      "32: 5621001\n",
      "33: 5698809\n",
      "34: 10837801\n",
      "35: 10517833\n",
      "36: 11237849\n",
      "37: 10726345\n",
      "38: 11547305\n",
      "39: 10944585\n",
      "40: 12090697\n",
      "41: 20375977\n",
      "42: 21307545\n",
      "43: 24782537\n",
      "44: 47169673\n",
      "45: 83803705\n",
      "46: 90440969\n",
      "47: 87016585\n",
      "48: 93741337\n",
      "49: 88363433\n",
      "50: 95382649\n",
      "51: 89085001\n",
      "52: 96792441\n",
      "53: 90439513\n",
      "54: 172132425\n",
      "55: 166521289\n",
      "56: 174859193\n",
      "57: 349711625\n",
      "58: 391825961\n",
      "59: 687711017\n",
      "60: 748779673\n",
      "61: 717643433\n",
      "62: 779698969\n",
      "63: 1299110233\n",
      "64: 1361683625\n",
      "65: 1302717433\n",
      "66: 1366594729\n",
      "67: 1305616329\n",
      "68: 1376330489\n",
      "69: 1317917577\n",
      "70: 1411407465\n",
      "71: 1362438857\n",
      "72: 1437786937\n",
      "73: 1450441801\n",
      "74: 1382180409\n",
      "75: 1468930841\n",
      "76: 1375314297\n",
      "77: 1466587641\n",
      "78: 1377894761\n",
      "79: 1470201017\n",
      "80: 1380729849\n",
      "81: 1473152105\n",
      "82: 1382371497\n",
      "83: 1477093977\n",
      "84: 1386111161\n",
      "85: 1490768521\n",
      "86: 1405034297\n",
      "87: 1542393673\n",
      "88: 1211470905\n",
      "89: 1214556857\n",
      "90: 1183659993\n",
      "91: 1198263673\n",
      "92: 1179754969\n",
      "93: 1194460521\n",
      "94: 1179290953\n",
      "95: 1194132937\n",
      "96: 1179450089\n",
      "97: 338730377\n",
      "98: 323944601\n",
      "99: 338743913\n",
      "100: 323620761\n",
      "101: 337168409\n",
      "102: 150425689\n",
      "103: 150746825\n",
      "104: 147336937\n",
      "105: 148975065\n",
      "106: 146929049\n",
      "107: 148586441\n",
      "108: 146891097\n",
      "109: 148567385\n",
      "110: 146913113\n",
      "111: 148580761\n",
      "112: 22107801\n",
      "113: 23649897\n",
      "114: 18731721\n",
      "115: 5395257\n",
      "116: 5006345\n",
      "117: 5198825\n",
      "118: 4963321\n",
      "119: 5159593\n",
      "120: 4961673\n",
      "121: 5159033\n",
      "122: 4960745\n",
      "123: 5145561\n",
      "124: 4573113\n",
      "125: 4576377\n",
      "126: 630185\n",
      "127: 654457\n",
      "128: 625753\n",
      "129: 650585\n",
      "130: 625529\n",
      "131: 370921\n",
      "132: 299977\n",
      "133: 300249\n",
      "134: 294217\n",
      "135: 297609\n",
      "136: 293769\n",
      "137: 88313\n",
      "138: 78681\n",
      "139: 78681\n",
      "140: 77801\n",
      "141: 78393\n",
      "142: 76857\n",
      "143: 76857\n",
      "144: 76393\n",
      "26741.290369 seconds (1.40 G allocations: 175.520 GiB, 69.14% gc time)\n"
     ]
    }
   ],
   "source": [
    "# grid graph\n",
    "m = 9\n",
    "dims = [m, m]\n",
    "k = m\n",
    "d = 0\n",
    "contiguity = \"rook\"\n",
    "# contiguity = \"rook\"\n",
    "\n",
    "if contiguity == \"queen\"\n",
    "    g = queen_grid(dims)\n",
    "    g_edges = optimal_queen_grid_edge_order(g, dims[1], dims[2])\n",
    "else\n",
    "    g = grid(dims)\n",
    "    g_edges = optimal_grid_edge_order_diags(g, dims[1], dims[2])\n",
    "end\n",
    "\n",
    "g_edges = convert_lightgraphs_edges_to_node_edges(g_edges)\n",
    "@time zdd = construct_zdd(g, k, d, g_edges)\n",
    "nothing"
   ]
  },
  {
   "cell_type": "code",
   "execution_count": 24,
   "metadata": {},
   "outputs": [
    {
     "data": {
      "text/plain": [
       "-8516442158125763703"
      ]
     },
     "execution_count": 24,
     "metadata": {},
     "output_type": "execute_result"
    }
   ],
   "source": [
    "count_paths(zdd)"
   ]
  },
  {
   "cell_type": "code",
   "execution_count": 9,
   "metadata": {},
   "outputs": [
    {
     "data": {
      "text/plain": [
       "2"
      ]
     },
     "execution_count": 9,
     "metadata": {},
     "output_type": "execute_result"
    }
   ],
   "source": [
    "length(zdd.graph)"
   ]
  },
  {
   "cell_type": "code",
   "execution_count": 10,
   "metadata": {},
   "outputs": [
    {
     "data": {
      "text/plain": [
       "282761"
      ]
     },
     "execution_count": 10,
     "metadata": {},
     "output_type": "execute_result"
    }
   ],
   "source": [
    "Base.summarysize(zdd)"
   ]
  },
  {
   "cell_type": "code",
   "execution_count": null,
   "metadata": {},
   "outputs": [],
   "source": [
    "frontiers = compute_all_frontiers(g, g_edges)"
   ]
  },
  {
   "cell_type": "code",
   "execution_count": null,
   "metadata": {},
   "outputs": [],
   "source": [
    "maximum([length(x) for x in frontiers])"
   ]
  },
  {
   "cell_type": "code",
   "execution_count": 23,
   "metadata": {},
   "outputs": [
    {
     "data": {
      "text/plain": [
       "1:145"
      ]
     },
     "execution_count": 23,
     "metadata": {},
     "output_type": "execute_result"
    }
   ],
   "source": []
  },
  {
   "cell_type": "code",
   "execution_count": null,
   "metadata": {},
   "outputs": [],
   "source": []
  }
 ],
 "metadata": {
  "kernelspec": {
   "display_name": "Julia 1.5.3",
   "language": "julia",
   "name": "julia-1.5"
  },
  "language_info": {
   "file_extension": ".jl",
   "mimetype": "application/julia",
   "name": "julia",
   "version": "1.5.3"
  }
 },
 "nbformat": 4,
 "nbformat_minor": 4
}
