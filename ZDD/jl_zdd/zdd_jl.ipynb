{
 "cells": [
  {
   "cell_type": "code",
   "execution_count": 1,
   "metadata": {},
   "outputs": [
    {
     "name": "stderr",
     "output_type": "stream",
     "text": [
      "\u001b[32m\u001b[1m Activating\u001b[22m\u001b[39m environment at `~/.julia/environments/zdd/Project.toml`\n"
     ]
    }
   ],
   "source": [
    "using Pkg; Pkg.activate(\"zdd\", shared=true)\n",
    "using LightGraphs\n",
    "using GraphPlot\n",
    "using Compose\n",
    "using Random\n",
    "using Traceur\n",
    "using BenchmarkTools"
   ]
  },
  {
   "cell_type": "code",
   "execution_count": 18,
   "metadata": {},
   "outputs": [
    {
     "data": {
      "text/plain": [
       "adjust_node! (generic function with 1 method)"
      ]
     },
     "execution_count": 18,
     "metadata": {},
     "output_type": "execute_result"
    }
   ],
   "source": [
    "# include(\"weightless.jl\")\n",
    "include(\"weighted.jl\")"
   ]
  },
  {
   "cell_type": "code",
   "execution_count": 19,
   "metadata": {},
   "outputs": [
    {
     "name": "stdout",
     "output_type": "stream",
     "text": [
      "Accepting districts with population in [3, 3]\n"
     ]
    },
    {
     "ename": "LoadError",
     "evalue": "BoundsError: attempt to access 4-element Array{ZDD_Node,1} at index [6]",
     "output_type": "error",
     "traceback": [
      "BoundsError: attempt to access 4-element Array{ZDD_Node,1} at index [6]",
      "",
      "Stacktrace:",
      " [1] getindex at ./array.jl:809 [inlined]",
      " [2] add_zdd_node_and_edge!(::ZDD{Node,SimpleGraph{Int64}}, ::Node, ::Node, ::Int64, ::Int8, ::Int64) at /Users/bsuwal01/Desktop/gerry/trees/ZDD/jl_zdd/zdd.jl:249",
      " [3] construct_zdd(::SimpleGraph{Int64}, ::Int64, ::Int64, ::Array{NodeEdge,1}; weights::Array{Int64,1}, viz::Bool, save_fp::String) at /Users/bsuwal01/Desktop/gerry/trees/ZDD/jl_zdd/zdd.jl:94",
      " [4] construct_zdd(::SimpleGraph{Int64}, ::Int64, ::Int64, ::Array{NodeEdge,1}) at /Users/bsuwal01/Desktop/gerry/trees/ZDD/jl_zdd/zdd.jl:50",
      " [5] top-level scope at ./timing.jl:174 [inlined]",
      " [6] top-level scope at ./In[19]:0",
      " [7] include_string(::Function, ::Module, ::String, ::String) at ./loading.jl:1091"
     ]
    }
   ],
   "source": [
    "# grid graph\n",
    "m = 3\n",
    "dims = [m, m]\n",
    "k = m\n",
    "d = 0\n",
    "contiguity = \"queen\"\n",
    "# contiguity = \"rook\"\n",
    "\n",
    "if contiguity == \"queen\"\n",
    "    g = queen_grid(dims)\n",
    "    g_edges = optimal_queen_grid_edge_order(g, dims[1], dims[2])\n",
    "else\n",
    "    g = grid(dims)\n",
    "    g_edges = optimal_grid_edge_order_diags(g, dims[1], dims[2])\n",
    "end\n",
    "\n",
    "g_edges = convert_lightgraphs_edges_to_node_edges(g_edges)\n",
    "@time zdd = construct_zdd(g, k, d, g_edges)\n",
    "nothing"
   ]
  },
  {
   "cell_type": "code",
   "execution_count": 8,
   "metadata": {},
   "outputs": [
    {
     "ename": "LoadError",
     "evalue": "UndefVarError: zdd not defined",
     "output_type": "error",
     "traceback": [
      "UndefVarError: zdd not defined",
      "",
      "Stacktrace:",
      " [1] top-level scope at In[8]:1",
      " [2] include_string(::Function, ::Module, ::String, ::String) at ./loading.jl:1091"
     ]
    }
   ],
   "source": [
    "count_paths(zdd)"
   ]
  },
  {
   "cell_type": "code",
   "execution_count": 9,
   "metadata": {},
   "outputs": [
    {
     "ename": "LoadError",
     "evalue": "UndefVarError: zdd not defined",
     "output_type": "error",
     "traceback": [
      "UndefVarError: zdd not defined",
      "",
      "Stacktrace:",
      " [1] top-level scope at In[9]:1",
      " [2] include_string(::Function, ::Module, ::String, ::String) at ./loading.jl:1091"
     ]
    }
   ],
   "source": [
    "length(zdd.graph)"
   ]
  },
  {
   "cell_type": "code",
   "execution_count": null,
   "metadata": {},
   "outputs": [],
   "source": []
  }
 ],
 "metadata": {
  "kernelspec": {
   "display_name": "Julia 1.5.3",
   "language": "julia",
   "name": "julia-1.5"
  },
  "language_info": {
   "file_extension": ".jl",
   "mimetype": "application/julia",
   "name": "julia",
   "version": "1.5.3"
  }
 },
 "nbformat": 4,
 "nbformat_minor": 4
}
